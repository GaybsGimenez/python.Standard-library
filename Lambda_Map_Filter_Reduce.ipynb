{
  "nbformat": 4,
  "nbformat_minor": 0,
  "metadata": {
    "colab": {
      "name": "Lambda.Map.Filter.Reduce.ipynb",
      "provenance": [],
      "authorship_tag": "ABX9TyO1KXawlCeh3rFPh4xqFqC3",
      "include_colab_link": true
    },
    "kernelspec": {
      "name": "python3",
      "display_name": "Python 3"
    },
    "language_info": {
      "name": "python"
    }
  },
  "cells": [
    {
      "cell_type": "markdown",
      "metadata": {
        "id": "view-in-github",
        "colab_type": "text"
      },
      "source": [
        "<a href=\"https://colab.research.google.com/github/GaybsGimenez/python.Standard-library/blob/main/Lambda_Map_Filter_Reduce.ipynb\" target=\"_parent\"><img src=\"https://colab.research.google.com/assets/colab-badge.svg\" alt=\"Open In Colab\"/></a>"
      ]
    },
    {
      "cell_type": "markdown",
      "source": [
        "#Funções lambda: "
      ],
      "metadata": {
        "id": "WlR2JlEyP-gq"
      }
    },
    {
      "cell_type": "markdown",
      "source": [
        "função anônima (sem nome) é um função bem enxuta e resolve problemas específicos. \n",
        "\n",
        "\n",
        "\n",
        "```\n",
        "variavel = lambda params: expressão\n",
        "```\n",
        "\n"
      ],
      "metadata": {
        "id": "2lwFqXBwRTzW"
      }
    },
    {
      "cell_type": "markdown",
      "source": [
        "##EXEMPLO: funão lambda para extrair provedor de e-mail"
      ],
      "metadata": {
        "id": "dhL81QMtRuFx"
      }
    },
    {
      "cell_type": "code",
      "execution_count": null,
      "metadata": {
        "id": "ebAYqpPeP4SS"
      },
      "outputs": [],
      "source": [
        "extrair_provedor = lambda email: email.split(sep='@')[-1]"
      ]
    },
    {
      "cell_type": "code",
      "source": [
        "email = 'gabriela.gimenez@gmail.com'\n",
        "print(email)\n",
        "\n",
        "provedor_email = extrair_provedor(email)\n",
        "print(provedor_email)"
      ],
      "metadata": {
        "colab": {
          "base_uri": "https://localhost:8080/"
        },
        "id": "yllM81c6STc-",
        "outputId": "5f4936e5-7ee3-40cc-aaca-097a25a3f71f"
      },
      "execution_count": null,
      "outputs": [
        {
          "output_type": "stream",
          "name": "stdout",
          "text": [
            "gabriela.gimenez@gmail.com\n",
            "gmail.com\n"
          ]
        }
      ]
    },
    {
      "cell_type": "markdown",
      "source": [
        "##exemplo: função lambda com estrutura condicional"
      ],
      "metadata": {
        "id": "341GPQN2gnae"
      }
    },
    {
      "cell_type": "code",
      "source": [
        "numero_e_par = lambda numero: True if numero % 2 == 0 else False"
      ],
      "metadata": {
        "id": "PpeCzdOmgtej"
      },
      "execution_count": null,
      "outputs": []
    },
    {
      "cell_type": "code",
      "source": [
        "numeros = range(0,10)"
      ],
      "metadata": {
        "id": "3cjnkxB0g51I"
      },
      "execution_count": null,
      "outputs": []
    },
    {
      "cell_type": "code",
      "source": [
        "for numero in numeros: \n",
        "  if numero_e_par(numero) == True:\n",
        "    print(f'o numero é {numero} é par!')"
      ],
      "metadata": {
        "colab": {
          "base_uri": "https://localhost:8080/"
        },
        "id": "x5aY1jrlg9x2",
        "outputId": "e086f082-00e9-4591-f766-211385340435"
      },
      "execution_count": null,
      "outputs": [
        {
          "output_type": "stream",
          "name": "stdout",
          "text": [
            "o numero é 0 é par!\n",
            "o numero é 2 é par!\n",
            "o numero é 4 é par!\n",
            "o numero é 6 é par!\n",
            "o numero é 8 é par!\n"
          ]
        }
      ]
    },
    {
      "cell_type": "markdown",
      "source": [
        "###juros compostos"
      ],
      "metadata": {
        "id": "7GwZOL3BjF3V"
      }
    },
    {
      "cell_type": "code",
      "source": [
        "def retorno(juros: float):\n",
        "  return lambda investimento: investimento * (1+juros)\n"
      ],
      "metadata": {
        "id": "GCXuP7fdieAO"
      },
      "execution_count": null,
      "outputs": []
    },
    {
      "cell_type": "code",
      "source": [
        "retorno_5porc = retorno(juros=0.05)"
      ],
      "metadata": {
        "id": "VMXnSna9mPJM"
      },
      "execution_count": null,
      "outputs": []
    },
    {
      "cell_type": "code",
      "source": [
        "valor_final = retorno_5porc(investimento=1000)\n",
        "print(valor_final)"
      ],
      "metadata": {
        "colab": {
          "base_uri": "https://localhost:8080/"
        },
        "id": "Qth7ZKJQpQS5",
        "outputId": "f904dc46-1c42-4fad-b528-51f755245665"
      },
      "execution_count": null,
      "outputs": [
        {
          "output_type": "stream",
          "name": "stdout",
          "text": [
            "1050.0\n"
          ]
        }
      ]
    },
    {
      "cell_type": "markdown",
      "source": [
        "#livro: p 175"
      ],
      "metadata": {
        "id": "15JZqcGZvHP9"
      }
    },
    {
      "cell_type": "markdown",
      "source": [
        "podemos criar funções simples, sem nome."
      ],
      "metadata": {
        "id": "tWeI2-G7vL90"
      }
    },
    {
      "cell_type": "code",
      "source": [
        "#programa função lambda que recebe um valor e retorna o dobro dele \n",
        "\n",
        "a=lambda x: x*2\n",
        "print(a(3))"
      ],
      "metadata": {
        "colab": {
          "base_uri": "https://localhost:8080/"
        },
        "id": "qQSjeKalvKpG",
        "outputId": "d6db1402-204b-4d32-d9e9-4648ee7ab12d"
      },
      "execution_count": null,
      "outputs": [
        {
          "output_type": "stream",
          "name": "stdout",
          "text": [
            "6\n"
          ]
        }
      ]
    },
    {
      "cell_type": "markdown",
      "source": [
        "funções lambda podem receber mais de um parametro"
      ],
      "metadata": {
        "id": "1OgfDEB0vlDG"
      }
    },
    {
      "cell_type": "code",
      "source": [
        "#programa funão lambda que recebe mais de um parametro\n",
        "\n",
        "aumento=lambda a,b:(a*b/100)\n",
        "aumento(100,5)"
      ],
      "metadata": {
        "colab": {
          "base_uri": "https://localhost:8080/"
        },
        "id": "s1rH8ivlvfre",
        "outputId": "79dfbc22-4d8f-43e0-da5e-4f565b6b8c79"
      },
      "execution_count": null,
      "outputs": [
        {
          "output_type": "execute_result",
          "data": {
            "text/plain": [
              "5.0"
            ]
          },
          "metadata": {},
          "execution_count": 15
        }
      ]
    },
    {
      "cell_type": "markdown",
      "source": [
        "#Função MAP\n",
        "\n",
        "aplica uma função em todos os  elementos de uma coleçõa (list, dict, etc) e retorna TODOS os elementos transformados.\n",
        "\n",
        "\n",
        "\n",
        "```\n",
        "variavel = map(funcao, colecao)\n",
        "```\n",
        "\n"
      ],
      "metadata": {
        "id": "TPlW2OVbZgFy"
      }
    },
    {
      "cell_type": "code",
      "source": [
        "numeros = [1, 2, 3]\n",
        "numero_ao_cubo=map(lambda num: num ** 3, numeros)\n",
        "\n",
        "print(list(numero_ao_cubo))"
      ],
      "metadata": {
        "colab": {
          "base_uri": "https://localhost:8080/"
        },
        "id": "CPWFCb-7ZjmM",
        "outputId": "3ac1c6fd-98c0-4721-af75-a906d07ef2b9"
      },
      "execution_count": null,
      "outputs": [
        {
          "output_type": "stream",
          "name": "stdout",
          "text": [
            "[1, 8, 27]\n"
          ]
        }
      ]
    },
    {
      "cell_type": "code",
      "source": [
        "#função lambda para extrari email do provedor \n",
        "\n",
        "emails =[ 'gabriela.g@gmail.com', 'gabriela.g@yahoo.com', 'gabriela.g@live.com']\n",
        "extrair_email_provedor = lambda email: email.split(sep='@')[-1]"
      ],
      "metadata": {
        "id": "PNEKJZA9bAyi"
      },
      "execution_count": null,
      "outputs": []
    },
    {
      "cell_type": "code",
      "source": [
        "provedores =[]\n",
        "for email in emails:\n",
        "  provedor = extrair_email_provedor(email)\n",
        "  provedores.append(provedor)\n",
        "\n",
        "print(provedores)"
      ],
      "metadata": {
        "colab": {
          "base_uri": "https://localhost:8080/"
        },
        "id": "9LLQwpetbvwN",
        "outputId": "fb9c926f-0354-4949-b7c5-9e9c9d5574db"
      },
      "execution_count": null,
      "outputs": [
        {
          "output_type": "stream",
          "name": "stdout",
          "text": [
            "['gmail.com', 'yahoo.com', 'live.com']\n"
          ]
        }
      ]
    },
    {
      "cell_type": "code",
      "source": [
        "provedores = map(extrair_email_provedor, emails)\n",
        "print(provedores)"
      ],
      "metadata": {
        "colab": {
          "base_uri": "https://localhost:8080/"
        },
        "id": "lZPLI2tmfPSB",
        "outputId": "eff4dbd0-7e70-4a8d-8a10-1b608df2e379"
      },
      "execution_count": null,
      "outputs": [
        {
          "output_type": "stream",
          "name": "stdout",
          "text": [
            "<map object at 0x7f5546725990>\n"
          ]
        }
      ]
    },
    {
      "cell_type": "code",
      "source": [
        "provedores = list(map(extrair_email_provedor, emails))\n",
        "print(provedores)"
      ],
      "metadata": {
        "colab": {
          "base_uri": "https://localhost:8080/"
        },
        "id": "wYZLn78Pfx5O",
        "outputId": "8bca3107-5388-4fd8-ef72-7df8a7cfdcfd"
      },
      "execution_count": null,
      "outputs": [
        {
          "output_type": "stream",
          "name": "stdout",
          "text": [
            "['gmail.com', 'yahoo.com', 'live.com']\n"
          ]
        }
      ]
    },
    {
      "cell_type": "code",
      "source": [
        "provedores = map(lambda email: email.split(sep='@')[-1], emails)\n",
        "print(list(provedores))"
      ],
      "metadata": {
        "colab": {
          "base_uri": "https://localhost:8080/"
        },
        "id": "M5JN4RevkDjZ",
        "outputId": "385dacbf-ecf3-4f89-9c7e-412a65667d36"
      },
      "execution_count": null,
      "outputs": [
        {
          "output_type": "stream",
          "name": "stdout",
          "text": [
            "['gmail.com', 'yahoo.com', 'live.com']\n"
          ]
        }
      ]
    },
    {
      "cell_type": "markdown",
      "source": [
        "map distribui os elementos de coleção e vc consegue buscar o resultado apenas quando for chamada\n",
        "MUITO USUAL COM GRANDES QUANTIDADES DE DADOS"
      ],
      "metadata": {
        "id": "RuxwKl75kqmA"
      }
    },
    {
      "cell_type": "code",
      "source": [
        "#SIMULAR E ANALISAR DIVERSOS CENÁRIOS DE INVESTIMENTO DA BOLSA\n",
        "\n",
        "anos =[10, 10, 10]\n",
        "taxas_juros = [0.05, 0.10, 0.15]\n",
        "valores_iniciais = [1000, 1000, 1000]\n",
        "\n",
        "def retorno(valor_inicial: float, taxa_juros: float, anos: int):\n",
        "  valor_final = valor_inicial\n",
        "  for ano in range(1,anos+1):\n",
        "    valor_final = valor_final * (1+taxa_juros)\n",
        "  return round(valor_final, 2)\n",
        "  \n",
        "\n",
        "\n",
        "cenarios = list(map(retorno, valores_iniciais, taxas_juros, anos))\n",
        "print(cenarios)"
      ],
      "metadata": {
        "colab": {
          "base_uri": "https://localhost:8080/"
        },
        "id": "TIRHV1Lnk1SV",
        "outputId": "f6d7c81e-73bb-44cb-e6e7-ffbbbfcb6bff"
      },
      "execution_count": null,
      "outputs": [
        {
          "output_type": "stream",
          "name": "stdout",
          "text": [
            "[1628.89, 2593.74, 4045.56]\n"
          ]
        }
      ]
    },
    {
      "cell_type": "markdown",
      "source": [
        "##Função filter\n",
        "\n",
        "filtrar elementos de uma coleção\n",
        "\n",
        "\n",
        "\n",
        "```\n",
        "variavel = filter(função, coleção)\n",
        "```\n",
        "deve retornar NECESSARIAMENTE um valor boleano (True or False)\n"
      ],
      "metadata": {
        "id": "VtFgtsYVP5I8"
      }
    },
    {
      "cell_type": "code",
      "source": [
        "numeros = [1,2,3]\n",
        "numeros_impares = filter(lambda num: num % 2 !=0, numeros)\n",
        "print(list(numeros_impares))"
      ],
      "metadata": {
        "colab": {
          "base_uri": "https://localhost:8080/"
        },
        "id": "x7Kc07VEP4YG",
        "outputId": "dbd9e17e-35f0-4c59-8ed0-3fbc39643fa1"
      },
      "execution_count": 2,
      "outputs": [
        {
          "output_type": "stream",
          "name": "stdout",
          "text": [
            "[1, 3]\n"
          ]
        }
      ]
    },
    {
      "cell_type": "code",
      "source": [
        "#função lambda para extrair provedor de e-mail\n",
        "\n",
        "emails = ['gabriela.gimenez@gmail.com', 'gabriela.gimenez@yahoo.com', 'gabriela.gimenez@live.com', 'gabi.gimenez@gmail.com']\n",
        "provedor_google = lambda email: 'gmail' in email"
      ],
      "metadata": {
        "id": "A-r0hGx1WuIs"
      },
      "execution_count": 5,
      "outputs": []
    },
    {
      "cell_type": "code",
      "source": [
        "emails_google = []\n",
        "for email in emails:\n",
        "  if provedor_google(email) == True:\n",
        "    emails_google.append(email)\n",
        "\n",
        "print(emails_google)"
      ],
      "metadata": {
        "colab": {
          "base_uri": "https://localhost:8080/"
        },
        "id": "ydUu3kBpXFRu",
        "outputId": "ad407263-8a79-426a-8d67-f012fd347cb0"
      },
      "execution_count": 7,
      "outputs": [
        {
          "output_type": "stream",
          "name": "stdout",
          "text": [
            "['gabriela.gimenez@gmail.com', 'gabi.gimenez@gmail.com']\n"
          ]
        }
      ]
    },
    {
      "cell_type": "code",
      "source": [
        "emails_google = filter(provedor_google, emails)\n",
        "print(emails_google)"
      ],
      "metadata": {
        "colab": {
          "base_uri": "https://localhost:8080/"
        },
        "id": "78dhe6nFXgFs",
        "outputId": "c3bb2774-3739-471f-a5ae-e334034cf660"
      },
      "execution_count": 8,
      "outputs": [
        {
          "output_type": "stream",
          "name": "stdout",
          "text": [
            "<filter object at 0x7f7cc7ee5c10>\n"
          ]
        }
      ]
    },
    {
      "cell_type": "code",
      "source": [
        "emails_google = list(filter(provedor_google, emails))\n",
        "print(emails_google)"
      ],
      "metadata": {
        "colab": {
          "base_uri": "https://localhost:8080/"
        },
        "id": "3g3dv9UNXurb",
        "outputId": "ddfe0742-53b4-49cc-cee0-efc19664e007"
      },
      "execution_count": 9,
      "outputs": [
        {
          "output_type": "stream",
          "name": "stdout",
          "text": [
            "['gabriela.gimenez@gmail.com', 'gabi.gimenez@gmail.com']\n"
          ]
        }
      ]
    },
    {
      "cell_type": "code",
      "source": [
        "emails_google = filter(lambda email: 'gmail' in email, emails) #mais usual é fazer a função lambda sendo definida diretamente dentro da funçao filter\n",
        "print(list(emails_google))"
      ],
      "metadata": {
        "colab": {
          "base_uri": "https://localhost:8080/"
        },
        "id": "Il83EVMFYdtc",
        "outputId": "f13bb183-0483-4cb2-cc38-fde0e7190b4f"
      },
      "execution_count": 10,
      "outputs": [
        {
          "output_type": "stream",
          "name": "stdout",
          "text": [
            "['gabriela.gimenez@gmail.com', 'gabi.gimenez@gmail.com']\n"
          ]
        }
      ]
    },
    {
      "cell_type": "markdown",
      "source": [
        "##Função REDUCE\n",
        "\n",
        "aplica a função em todos os elementos de uma coleção, dois a doia, e retorna APENAS um elemento\n",
        "\n",
        "\n",
        "```\n",
        "varial = reduce(função, coleção)\n",
        "```\n",
        "\n"
      ],
      "metadata": {
        "id": "KEzMMsU8Y7E1"
      }
    },
    {
      "cell_type": "code",
      "source": [
        "numeros = [1,2,3]"
      ],
      "metadata": {
        "id": "SBHCzLj_wXFx"
      },
      "execution_count": 11,
      "outputs": []
    },
    {
      "cell_type": "code",
      "source": [
        "from functools import reduce  #functools (biblioteca)\n",
        "soma = reduce(lambda x,y: x+y, numeros)\n",
        "print(soma)"
      ],
      "metadata": {
        "colab": {
          "base_uri": "https://localhost:8080/"
        },
        "id": "BNZoQgB_w1T6",
        "outputId": "beefd726-20cb-45a6-9fd7-3fafc641ca34"
      },
      "execution_count": 14,
      "outputs": [
        {
          "output_type": "stream",
          "name": "stdout",
          "text": [
            "6\n"
          ]
        }
      ]
    },
    {
      "cell_type": "code",
      "source": [
        "#EXEMPLO: encontrar maior numero em uma lista\n",
        "\n",
        "def maior_entre(primeiro: int, segundo: int):\n",
        "  return primeiro if primeiro >= segundo else segundo\n",
        "\n",
        "primeiro = 1\n",
        "segundo = 2 \n",
        "\n",
        "print(maior_entre(primeiro=primeiro, segundo=segundo))\n",
        "\n"
      ],
      "metadata": {
        "colab": {
          "base_uri": "https://localhost:8080/"
        },
        "id": "0wJAGYMKytsQ",
        "outputId": "5de35867-7c7f-4e5d-88aa-8bf4dc8e2040"
      },
      "execution_count": 15,
      "outputs": [
        {
          "output_type": "stream",
          "name": "stdout",
          "text": [
            "2\n"
          ]
        }
      ]
    },
    {
      "cell_type": "code",
      "source": [
        "from random import random\n",
        "print(random())  #numero entre 0 e 1"
      ],
      "metadata": {
        "colab": {
          "base_uri": "https://localhost:8080/"
        },
        "id": "p6dU3soH0TfV",
        "outputId": "e9d0d968-383d-47c5-9714-fa71eb143e3b"
      },
      "execution_count": 17,
      "outputs": [
        {
          "output_type": "stream",
          "name": "stdout",
          "text": [
            "0.8353213019823776\n"
          ]
        }
      ]
    },
    {
      "cell_type": "markdown",
      "source": [
        "###Criar sequencia aleatória"
      ],
      "metadata": {
        "id": "0Ud8eRje0y93"
      }
    },
    {
      "cell_type": "code",
      "source": [
        "from random import random #random, gera numeros aleatórios\n",
        "numeros = [round(100 * random()) for _ in range(0,100)]\n",
        "print(numeros)"
      ],
      "metadata": {
        "colab": {
          "base_uri": "https://localhost:8080/"
        },
        "id": "FBOFsPrE0ZRT",
        "outputId": "658f8677-ae48-4bf5-dc50-f5ab582d2555"
      },
      "execution_count": 19,
      "outputs": [
        {
          "output_type": "stream",
          "name": "stdout",
          "text": [
            "[64, 2, 95, 90, 99, 40, 95, 52, 19, 50, 65, 75, 5, 3, 6, 76, 95, 51, 50, 3, 2, 83, 35, 11, 51, 42, 15, 45, 35, 60, 65, 63, 48, 90, 52, 33, 56, 26, 27, 90, 51, 83, 59, 14, 28, 38, 95, 50, 63, 65, 50, 79, 83, 82, 65, 18, 64, 62, 84, 13, 10, 57, 71, 38, 57, 21, 56, 64, 78, 91, 86, 61, 75, 43, 46, 98, 98, 92, 0, 8, 33, 93, 58, 30, 76, 82, 93, 89, 67, 89, 52, 1, 51, 63, 34, 66, 26, 37, 96, 96]\n"
          ]
        }
      ]
    },
    {
      "cell_type": "code",
      "source": [
        "maior_numero = reduce(lambda primeiro, segundo: primeiro if primeiro >= segundo else segundo, numeros)\n",
        "print(maior_numero)"
      ],
      "metadata": {
        "colab": {
          "base_uri": "https://localhost:8080/"
        },
        "id": "cWcFi1F5049J",
        "outputId": "0a7a22a7-8c6b-4fc0-9279-e3213e65c7a0"
      },
      "execution_count": 20,
      "outputs": [
        {
          "output_type": "stream",
          "name": "stdout",
          "text": [
            "99\n"
          ]
        }
      ]
    },
    {
      "cell_type": "markdown",
      "source": [
        "#programação funcional: compossibilidade\n",
        "programação funcional só faz sentido se as funções puderem ser compostas num resultado de interesse"
      ],
      "metadata": {
        "id": "0e_zhPcs2E58"
      }
    },
    {
      "cell_type": "code",
      "source": [
        "from random import random #random, gera numeros aleatórios\n",
        "numeros = [round(100 * random()) for _ in range(0,100)]\n",
        "print(numeros)"
      ],
      "metadata": {
        "colab": {
          "base_uri": "https://localhost:8080/"
        },
        "id": "D4hO41RZ2V4R",
        "outputId": "1237023e-ee9f-49ce-e5fa-40d6c0fe2f5c"
      },
      "execution_count": 21,
      "outputs": [
        {
          "output_type": "stream",
          "name": "stdout",
          "text": [
            "[68, 60, 13, 48, 75, 82, 0, 81, 14, 63, 74, 47, 50, 95, 98, 28, 34, 69, 81, 27, 86, 29, 46, 13, 36, 30, 92, 71, 81, 67, 52, 57, 28, 5, 7, 40, 89, 95, 48, 92, 24, 52, 12, 64, 2, 34, 26, 47, 87, 84, 24, 56, 14, 43, 64, 51, 59, 48, 31, 39, 61, 61, 17, 94, 7, 14, 53, 58, 68, 96, 16, 14, 73, 37, 47, 1, 24, 71, 94, 63, 2, 89, 48, 72, 92, 26, 57, 18, 46, 54, 62, 34, 9, 65, 90, 2, 14, 2, 30, 79]\n"
          ]
        }
      ]
    },
    {
      "cell_type": "code",
      "source": [
        "#ELEVE O NUMERO AO QUADRADO\n",
        "\n",
        "numero_quadrado = map(lambda numero: numero ** 2, numeros)"
      ],
      "metadata": {
        "id": "Q3HSpsfp2dwD"
      },
      "execution_count": 22,
      "outputs": []
    },
    {
      "cell_type": "code",
      "source": [
        "#FILTRAR NUMEROS IMPARES\n",
        "\n",
        "numeros_impares = filter(lambda numero: numero % 2 != 0, numero_quadrado)"
      ],
      "metadata": {
        "id": "-_oHkCpf2vCo"
      },
      "execution_count": 24,
      "outputs": []
    },
    {
      "cell_type": "code",
      "source": [
        "#SOMAR TODOS OS ELEMENTOS\n",
        "\n",
        "soma_numeros = reduce(lambda x,y: x+y, numeros_impares)\n",
        "print(soma_numeros)"
      ],
      "metadata": {
        "colab": {
          "base_uri": "https://localhost:8080/"
        },
        "id": "vFI7mG5O3D6L",
        "outputId": "ae8884fb-7f3e-46af-e12e-e816fbbe004c"
      },
      "execution_count": 25,
      "outputs": [
        {
          "output_type": "stream",
          "name": "stdout",
          "text": [
            "147394\n"
          ]
        }
      ]
    },
    {
      "cell_type": "code",
      "source": [
        "#TODOS OS MÉTODOS DE UMA VEZ\n",
        "\n",
        "soma_numeros = reduce(lambda x,y: x+y, filter(lambda numero: numero %2 !=0, numeros))\n",
        "print(soma_numeros)"
      ],
      "metadata": {
        "colab": {
          "base_uri": "https://localhost:8080/"
        },
        "id": "D7yb2Gmb3UWL",
        "outputId": "a65f7fb1-b45d-4da1-9d65-0b43207433ab"
      },
      "execution_count": 26,
      "outputs": [
        {
          "output_type": "stream",
          "name": "stdout",
          "text": [
            "2212\n"
          ]
        }
      ]
    }
  ]
}