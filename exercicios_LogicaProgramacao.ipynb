{
  "nbformat": 4,
  "nbformat_minor": 0,
  "metadata": {
    "colab": {
      "name": "exercicios_LogicaProgramacao.ipynb",
      "provenance": [],
      "authorship_tag": "ABX9TyN4cd1nOrzMGFMVYZLrFxcc",
      "include_colab_link": true
    },
    "kernelspec": {
      "name": "python3",
      "display_name": "Python 3"
    },
    "language_info": {
      "name": "python"
    }
  },
  "cells": [
    {
      "cell_type": "markdown",
      "metadata": {
        "id": "view-in-github",
        "colab_type": "text"
      },
      "source": [
        "<a href=\"https://colab.research.google.com/github/GaybsGimenez/python.Standard-library/blob/main/exercicios_LogicaProgramacao.ipynb\" target=\"_parent\"><img src=\"https://colab.research.google.com/assets/colab-badge.svg\" alt=\"Open In Colab\"/></a>"
      ]
    },
    {
      "cell_type": "markdown",
      "source": [
        "Faça um programa que pela ao usuário para digitar um número inteiro, informe se este número é par ou impar. Caso o usuário não digite um numero inteiro, informe o erro."
      ],
      "metadata": {
        "id": "nsgmzZCwfa9v"
      }
    },
    {
      "cell_type": "code",
      "execution_count": 12,
      "metadata": {
        "colab": {
          "base_uri": "https://localhost:8080/"
        },
        "id": "fq0jbzKXfY7K",
        "outputId": "efb50fd3-681b-4c1c-9eec-9e985418a682"
      },
      "outputs": [
        {
          "output_type": "stream",
          "name": "stdout",
          "text": [
            "digite um número inteiro: 1\n",
            "O número 1 é impar\n"
          ]
        }
      ],
      "source": [
        "n_inteiro = input('digite um número inteiro: ')\n",
        "\n",
        "if n_inteiro.isdigit():\n",
        "  n_inteiro =  int(n_inteiro)\n",
        "\n",
        "  if n_inteiro % 2== 0:\n",
        "    print(f'O número {n_inteiro} é par')\n",
        "  else:\n",
        "    print(f'O número {n_inteiro} é impar')\n",
        "else:\n",
        "  print('isso não é um número inteiro e/ou isso é uma letra!')\n"
      ]
    },
    {
      "cell_type": "code",
      "source": [
        "n_inteiro = input('Digite um número inteiro: ')\n",
        "\n",
        "if not n_inteiro.isdigit():\n",
        "  print('isso não é um número inteiro e/ou isso é uma letra!')\n",
        "else: \n",
        "  n_inteiro = int(n_inteiro)\n",
        "\n",
        "  if not n_inteiro % 2 == 0:\n",
        "    print(f'O número {n_inteiro} é impar')\n",
        "  else: \n",
        "     print(f'O número {n_inteiro} é par')\n"
      ],
      "metadata": {
        "colab": {
          "base_uri": "https://localhost:8080/"
        },
        "id": "orO-wQufjrUI",
        "outputId": "d0e04416-24eb-487c-cac8-576584c5ad7d"
      },
      "execution_count": 15,
      "outputs": [
        {
          "output_type": "stream",
          "name": "stdout",
          "text": [
            "Digite um número inteiro: 2\n",
            "O número 2 é par\n"
          ]
        }
      ]
    },
    {
      "cell_type": "markdown",
      "source": [
        "Faça um programa que perfunte a hora ao usuário e, baseando-se no horário descrito, exiba a saudação apropriada. (Bom dia, boa tarde e boa noite)"
      ],
      "metadata": {
        "id": "jyyJvalZfqpm"
      }
    },
    {
      "cell_type": "code",
      "source": [
        "horario = input('digite um horário (0-23): ')\n",
        "\n",
        "if horario.isdigit():\n",
        "  horario = int(horario)\n",
        "\n",
        "  if horario < 0 or horario > 23:\n",
        "    print('horário não existe! digite entre 0 e 23')\n",
        "  else:\n",
        "      if horario < 11: \n",
        "         print('Bom dia!')\n",
        "      elif horario <= 17: \n",
        "         print('Boa tarde')\n",
        "      else: \n",
        "         print('Boa noite')\n",
        "else: \n",
        "  print(\"digite um horário entre 0 e 23.\")"
      ],
      "metadata": {
        "colab": {
          "base_uri": "https://localhost:8080/"
        },
        "id": "y-NUSPfZf1t7",
        "outputId": "fa06bf38-cf57-4c96-cbb8-d6d2dd7b9a0e"
      },
      "execution_count": 22,
      "outputs": [
        {
          "output_type": "stream",
          "name": "stdout",
          "text": [
            "digite um horário (0-23): 33\n",
            "horário não existe! digite entre 0 e 23\n"
          ]
        }
      ]
    },
    {
      "cell_type": "markdown",
      "source": [
        "Faça um programa que peça o primeiro nome do usuário. Se o nome tiver 4 letras ou menos escreva \"quantidade de caractere do nome considerado: curto\" ; se tiver entre 5 e 6 letras, \"quantidade de caractere do nome considerado: padrão\"; mairo que 6 \"quantidade de caractere do nome considerado grande\""
      ],
      "metadata": {
        "id": "a_OcZKjZf14V"
      }
    },
    {
      "cell_type": "code",
      "source": [
        "nome = input('digite seu primeiro nome: ')\n",
        "\n",
        "tamanho = len(nome)\n",
        "\n",
        "if tamanho <= 4:\n",
        "  print(f'O nome {nome} tem a quantidade de caractere do seu nome considerado: curto')\n",
        "elif tamanho <= 6:\n",
        "  print(f'O nome {nome} tem quantidade de caractere do seu nome considerado: padrão')\n",
        "else: \n",
        "  print(f'O nome {nome} tem quantidade de caractere do seu nome considerado: grande')"
      ],
      "metadata": {
        "colab": {
          "base_uri": "https://localhost:8080/"
        },
        "id": "olNRVOSKgWQF",
        "outputId": "86ad9568-33b9-4257-e740-4ca1530e9b3c"
      },
      "execution_count": 25,
      "outputs": [
        {
          "output_type": "stream",
          "name": "stdout",
          "text": [
            "digite seu primeiro nome: bethin\n",
            "O nome bethin tem quantidade de caractere do seu nome considerado: padrão\n"
          ]
        }
      ]
    }
  ]
}