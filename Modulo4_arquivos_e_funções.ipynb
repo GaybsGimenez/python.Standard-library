{
  "nbformat": 4,
  "nbformat_minor": 0,
  "metadata": {
    "colab": {
      "name": "Modulo4_arquivos e funções.ipynb",
      "provenance": [],
      "authorship_tag": "ABX9TyPk9+W1ihkOVv05PRbG6emy",
      "include_colab_link": true
    },
    "kernelspec": {
      "name": "python3",
      "display_name": "Python 3"
    },
    "language_info": {
      "name": "python"
    }
  },
  "cells": [
    {
      "cell_type": "markdown",
      "metadata": {
        "id": "view-in-github",
        "colab_type": "text"
      },
      "source": [
        "<a href=\"https://colab.research.google.com/github/GaybsGimenez/python.Standard-library/blob/main/Modulo4_arquivos_e_fun%C3%A7%C3%B5es.ipynb\" target=\"_parent\"><img src=\"https://colab.research.google.com/assets/colab-badge.svg\" alt=\"Open In Colab\"/></a>"
      ]
    },
    {
      "cell_type": "code",
      "execution_count": null,
      "metadata": {
        "colab": {
          "base_uri": "https://localhost:8080/"
        },
        "id": "3NRiToix2-dF",
        "outputId": "1d1cd50e-f56a-4c3c-c4ea-a9cb7764c67f"
      },
      "outputs": [
        {
          "output_type": "stream",
          "name": "stdout",
          "text": [
            "Overwriting banco.csv\n"
          ]
        }
      ],
      "source": [
        "%%writefile banco.csv\n",
        "age,job,marital,education,default,balance,housing,loan\n",
        "30,unemployed,married,primary,no,1787,no,no\n",
        "33,services,married,secondary,no,4789,yes,yes\n",
        "35,management,single,tertiary,no,1350,yes,no\n",
        "30,management,married,tertiary,no,1476,yes,yes\n",
        "59,blue-collar,married,secondary,no,0,yes,no\n",
        "35,management,single,tertiary,no,747,no,no\n",
        "36,self-employed,married,tertiary,no,307,yes,no\n",
        "39,technician,married,secondary,no,147,yes,no\n",
        "41,entrepreneur,married,tertiary,no,221,yes,no\n",
        "43,services,married,primary,no,-88,yes,yes"
      ]
    },
    {
      "cell_type": "code",
      "source": [
        "with open(file='/content/banco.csv', mode='r', encoding='utf8') as arquivo:\n",
        "  conteudo = arquivo.read()\n",
        "\n",
        "print(conteudo) \n"
      ],
      "metadata": {
        "colab": {
          "base_uri": "https://localhost:8080/"
        },
        "id": "LY6OSxjC4Gb6",
        "outputId": "bde8fec5-0f10-4833-8ce4-211af5d0ef40"
      },
      "execution_count": null,
      "outputs": [
        {
          "output_type": "stream",
          "name": "stdout",
          "text": [
            "age,job,marital,education,default,balance,housing,loan\n",
            "30,unemployed,married,primary,no,1787,no,no\n",
            "33,services,married,secondary,no,4789,yes,yes\n",
            "35,management,single,tertiary,no,1350,yes,no\n",
            "30,management,married,tertiary,no,1476,yes,yes\n",
            "59,blue-collar,married,secondary,no,0,yes,no\n",
            "35,management,single,tertiary,no,747,no,no\n",
            "36,self-employed,married,tertiary,no,307,yes,no\n",
            "39,technician,married,secondary,no,147,yes,no\n",
            "41,entrepreneur,married,tertiary,no,221,yes,no\n",
            "43,services,married,primary,no,-88,yes,yes\n"
          ]
        }
      ]
    },
    {
      "cell_type": "code",
      "source": [
        "conteudo = []\n",
        "\n",
        "with open(file='/content/banco.csv', mode='r', encoding='utf8') as arquivo:\n",
        "  linha = arquivo.readline()\n",
        "  while linha:\n",
        "    conteudo.append(linha)\n",
        "    linha = arquivo.readline()\n",
        "\n",
        "print(conteudo) "
      ],
      "metadata": {
        "colab": {
          "base_uri": "https://localhost:8080/"
        },
        "id": "wX7SMhko54aJ",
        "outputId": "01878bf8-4750-435a-a75f-f42ff416e625"
      },
      "execution_count": null,
      "outputs": [
        {
          "output_type": "stream",
          "name": "stdout",
          "text": [
            "['age,job,marital,education,default,balance,housing,loan\\n', '30,unemployed,married,primary,no,1787,no,no\\n', '33,services,married,secondary,no,4789,yes,yes\\n', '35,management,single,tertiary,no,1350,yes,no\\n', '30,management,married,tertiary,no,1476,yes,yes\\n', '59,blue-collar,married,secondary,no,0,yes,no\\n', '35,management,single,tertiary,no,747,no,no\\n', '36,self-employed,married,tertiary,no,307,yes,no\\n', '39,technician,married,secondary,no,147,yes,no\\n', '41,entrepreneur,married,tertiary,no,221,yes,no\\n', '43,services,married,primary,no,-88,yes,yes']\n"
          ]
        }
      ]
    },
    {
      "cell_type": "code",
      "source": [
        "for linha in conteudo:\n",
        "  print(linha)"
      ],
      "metadata": {
        "colab": {
          "base_uri": "https://localhost:8080/"
        },
        "id": "11a0imfs7Gwz",
        "outputId": "977c520b-2876-4bfa-94bf-0b237e97e9e1"
      },
      "execution_count": null,
      "outputs": [
        {
          "output_type": "stream",
          "name": "stdout",
          "text": [
            "age,job,marital,education,default,balance,housing,loan\n",
            "\n",
            "30,unemployed,married,primary,no,1787,no,no\n",
            "\n",
            "33,services,married,secondary,no,4789,yes,yes\n",
            "\n",
            "35,management,single,tertiary,no,1350,yes,no\n",
            "\n",
            "30,management,married,tertiary,no,1476,yes,yes\n",
            "\n",
            "59,blue-collar,married,secondary,no,0,yes,no\n",
            "\n",
            "35,management,single,tertiary,no,747,no,no\n",
            "\n",
            "36,self-employed,married,tertiary,no,307,yes,no\n",
            "\n",
            "39,technician,married,secondary,no,147,yes,no\n",
            "\n",
            "41,entrepreneur,married,tertiary,no,221,yes,no\n",
            "\n",
            "43,services,married,primary,no,-88,yes,yes\n"
          ]
        }
      ]
    },
    {
      "cell_type": "code",
      "source": [
        "idades = []\n",
        "\n",
        "with open(file='/content/banco.csv', mode='r', encoding='utf8') as arquivo_banco: \n",
        "  linha = arquivo_banco.readline()\n",
        "  linha = arquivo_banco.readline()\n",
        "  while linha:\n",
        "      linha_separada = linha.split(sep=',')\n",
        "      idade = linha_separada[0]\n",
        "      idade = int(idade)\n",
        "      idades.append(idade)\n",
        "      linha = arquivo_banco.readline()\n",
        "\n",
        "print(idades)"
      ],
      "metadata": {
        "colab": {
          "base_uri": "https://localhost:8080/"
        },
        "id": "25wY_Wye8JsI",
        "outputId": "5a1c8383-7127-427b-eae1-c56e17ec89f7"
      },
      "execution_count": null,
      "outputs": [
        {
          "output_type": "stream",
          "name": "stdout",
          "text": [
            "[30, 33, 35, 30, 59, 35, 36, 39, 41, 43]\n"
          ]
        }
      ]
    },
    {
      "cell_type": "markdown",
      "source": [
        "Modulo w: modulo de escrita de informação em arquivos\n"
      ],
      "metadata": {
        "id": "vWp5o1ZNP3Yq"
      }
    },
    {
      "cell_type": "markdown",
      "source": [
        "MÉTODO WRITE: Permite escrever linha a linha, assim como o readline() serivia para ler linha a linha"
      ],
      "metadata": {
        "id": "eRGVpnMhQKqn"
      }
    },
    {
      "cell_type": "code",
      "source": [
        "with open(file='idade.csv', mode='w', encoding='utf8') as fp:\n",
        "  linha = 'idade' + '\\n' #cabeçalho\n",
        "  fp.write(linha)\n",
        "  for idade in idades:\n",
        "    linha = str(idade) + '\\n' #converter os int em str, pq só da pra trabalhar com str() em tabelas\n",
        "    fp.write(linha)"
      ],
      "metadata": {
        "id": "bPjQGeCnPoS3"
      },
      "execution_count": null,
      "outputs": []
    },
    {
      "cell_type": "markdown",
      "source": [
        "MÉTODO APEND(A) - de acrescimo dentro da tabela"
      ],
      "metadata": {
        "id": "x9_KCel1SIgG"
      }
    },
    {
      "cell_type": "code",
      "source": [
        "with open(file='idade.csv', mode='a', encoding='utf8') as fp:\n",
        "  for idade in idades:\n",
        "    linha = str(idade + 100) + '\\n'\n",
        "    fp.write(linha)"
      ],
      "metadata": {
        "id": "HJkzP5QKSP6X"
      },
      "execution_count": null,
      "outputs": []
    },
    {
      "cell_type": "markdown",
      "source": [
        "ARQUIVO .TXT"
      ],
      "metadata": {
        "id": "OvtHXZp_XJnS"
      }
    },
    {
      "cell_type": "code",
      "source": [
        "%%writefile banco-texto.txt\n",
        "age,job,marital,education,default,balance,housing,loan\n",
        "30,unemployed,married,primary,no,1787,no,no\n",
        "33,services,married,secondary,no,4789,yes,yes\n",
        "35,management,single,tertiary,no,1350,yes,no\n",
        "30,management,married,tertiary,no,1476,yes,yes\n",
        "59,blue-collar,married,secondary,no,0,yes,no\n",
        "35,management,single,tertiary,no,747,no,no\n",
        "36,self-employed,married,tertiary,no,307,yes,no\n",
        "39,technician,married,secondary,no,147,yes,no\n",
        "41,entrepreneur,married,tertiary,no,221,yes,no\n",
        "43,services,married,primary,no,-88,yes,yes\n"
      ],
      "metadata": {
        "colab": {
          "base_uri": "https://localhost:8080/"
        },
        "id": "SweDKFONWy27",
        "outputId": "3415e6c8-096f-4401-fcf3-cc9fe4227b8c"
      },
      "execution_count": null,
      "outputs": [
        {
          "output_type": "stream",
          "name": "stdout",
          "text": [
            "Overwriting banco-texto.txt\n"
          ]
        }
      ]
    },
    {
      "cell_type": "markdown",
      "source": [
        "TRANSFORMAR ARQUIVO .TXT EM ARQUIVO CSV "
      ],
      "metadata": {
        "id": "B0pt7TRwXPbi"
      }
    },
    {
      "cell_type": "code",
      "source": [
        "with open(file='/content/banco-texto.txt', mode ='r', encoding='utf8') as original:\n",
        "  with open(file='./banco-csv.csv', mode='w', encoding='utf8') as copia:\n",
        "    linha = original.readline()\n",
        "    while linha:\n",
        "      copia.write(linha)\n",
        "      linha = original.readline()"
      ],
      "metadata": {
        "id": "qDcsfBxOXOpi"
      },
      "execution_count": null,
      "outputs": []
    },
    {
      "cell_type": "markdown",
      "source": [
        "FUNÇÕES"
      ],
      "metadata": {
        "id": "kidd9VJyb8pY"
      }
    },
    {
      "cell_type": "code",
      "source": [
        "valor_inicial, taxa_juros_anual, anos = 1000.00, 0.05, 10\n",
        "\n",
        "valor_final = valor_inicial\n",
        "for ano in range(1, anos+1):\n",
        "  valor_final = valor_final * (1 + taxa_juros_anual)\n",
        "valor_final = round(valor_final, 2)\n",
        "print(f'Para um valor inicial de R$ {valor_inicial} e uma taxa de juros anual de {taxa_juros_anual}, em {anos} anos você terá R$ {valor_final}' )\n",
        "\n",
        "valor_inicial, taxa_juros_anual, anos = 1020.00, 0.03, 10\n",
        "\n",
        "valor_final = valor_inicial\n",
        "for ano in range(1, anos+1):\n",
        "  valor_final = valor_final * (1 + taxa_juros_anual)\n",
        "valor_final = round(valor_final, 2)\n",
        "print(f'Para um valor inicial de R$ {valor_inicial} e uma taxa de juros anual de {taxa_juros_anual}, em {anos} anos você terá R$ {valor_final}')"
      ],
      "metadata": {
        "colab": {
          "base_uri": "https://localhost:8080/"
        },
        "id": "cn5Y_2lQbNAe",
        "outputId": "57a3feed-3c8a-480a-a61c-84b34fb18ded"
      },
      "execution_count": null,
      "outputs": [
        {
          "output_type": "stream",
          "name": "stdout",
          "text": [
            "Para um valor inicial de R$ 1000.0 e uma taxa de juros anual de 0.05, em 10 anos você terá R$ 1628.89\n",
            "Para um valor inicial de R$ 1020.0 e uma taxa de juros anual de 0.03, em 10 anos você terá R$ 1370.79\n"
          ]
        }
      ]
    },
    {
      "cell_type": "markdown",
      "source": [
        "FUNÇÃO: Bloco de notas que só é executado quando chamado\n",
        "\n",
        "* SINTAXE"
      ],
      "metadata": {
        "id": "960nG9NpyWoT"
      }
    },
    {
      "cell_type": "markdown",
      "source": [
        "\n",
        "\n",
        "```\n",
        "# def <nome>(parametro, parametro, ...): \n",
        "    bloco de código\n",
        "    return <valor de retorno>\n",
        "\n",
        "\n",
        "var = <nome>(parametro, parametro>\n",
        "\n",
        "```\n",
        "\n",
        "# EXEMPLO\n",
        "\n",
        "```\n",
        "def soma(a,b):\n",
        "  print(a+b)\n",
        "\n",
        "soma(1, 4) \n",
        ">>> 5 \n",
        "\n",
        "\n",
        "```\n"
      ],
      "metadata": {
        "id": "lBJlpmrGytjX"
      }
    },
    {
      "cell_type": "code",
      "source": [
        "def imprime(mensagem: str):\n",
        "  print(mensagem)\n",
        "\n",
        "texto = 'Fala pessoal meu nome é Gabriela Gimenez'\n",
        "\n",
        "imprime(mensagem=texto)\n"
      ],
      "metadata": {
        "colab": {
          "base_uri": "https://localhost:8080/"
        },
        "id": "ogLarboDzO8s",
        "outputId": "befd0111-39e5-4998-c9e0-449e27c49154"
      },
      "execution_count": null,
      "outputs": [
        {
          "output_type": "stream",
          "name": "stdout",
          "text": [
            "Fala pessoal meu nome é Gabriela Gimenez\n"
          ]
        }
      ]
    },
    {
      "cell_type": "code",
      "source": [
        "def maiusculo(texto: str):\n",
        "  text_maiusculo = texto.upper() # pega os elementos e transforma em maiusculo\n",
        "  return text_maiusculo\n",
        "\n",
        "text_maiusculo = maiusculo(texto)\n",
        "print(text_maiusculo)"
      ],
      "metadata": {
        "colab": {
          "base_uri": "https://localhost:8080/"
        },
        "id": "hDjOPa6838A3",
        "outputId": "20166592-4101-43d7-a4d1-a5d4d2e62426"
      },
      "execution_count": null,
      "outputs": [
        {
          "output_type": "stream",
          "name": "stdout",
          "text": [
            "FALA PESSOAL MEU NOME É GABRIELA GIMENEZ\n"
          ]
        }
      ]
    },
    {
      "cell_type": "code",
      "source": [
        "nome = 'Gabriela Gimenez Azevedo'\n",
        "print(nome)\n",
        "\n",
        "nome_maiusculo = maiusculo(texto=nome)\n",
        "print(nome_maiusculo)"
      ],
      "metadata": {
        "colab": {
          "base_uri": "https://localhost:8080/"
        },
        "id": "5PL1Mt-l5GM3",
        "outputId": "174cbc15-1dd7-494c-934c-756e629d0709"
      },
      "execution_count": null,
      "outputs": [
        {
          "output_type": "stream",
          "name": "stdout",
          "text": [
            "Gabriela Gimenez Azevedo\n",
            "GABRIELA GIMENEZ AZEVEDO\n"
          ]
        }
      ]
    },
    {
      "cell_type": "code",
      "source": [
        "def extr_user_email_prov(email):\n",
        "  email_separado = email.split(sep='@')\n",
        "  usuario = email_separado[0]\n",
        "  provedor = email_separado[1]\n",
        "  return usuario, provedor"
      ],
      "metadata": {
        "id": "A7fkrpl_5pL3"
      },
      "execution_count": null,
      "outputs": []
    },
    {
      "cell_type": "markdown",
      "source": [
        "ESTUDO SOBRE FUNÇÕES: LIVRO\n",
        "para definir uma função usar o def()\n",
        "\n",
        "Funções são especialmente interessantes para isolar uma tarefa específica em um trecho de programação e chamá-la quando necessária. Sem precisar repetir o mesmo trecho de código. \n",
        "\n",
        "\n",
        "```\n",
        "def soma(a,b):\n",
        "  return a + b\n",
        "print(soma(2,9))\n",
        "```\n",
        "\n",
        "return: para indicar o valor a retornar"
      ],
      "metadata": {
        "id": "n0oAasWdFsQH"
      }
    },
    {
      "cell_type": "code",
      "source": [
        "def soma(a,b):\n",
        "  return a + b\n",
        "print(soma(2,9))"
      ],
      "metadata": {
        "colab": {
          "base_uri": "https://localhost:8080/"
        },
        "id": "BzOlo4gtGiNU",
        "outputId": "0010fd05-142a-46bf-8fbe-86b20dd23aab"
      },
      "execution_count": null,
      "outputs": [
        {
          "output_type": "stream",
          "name": "stdout",
          "text": [
            "11\n"
          ]
        }
      ]
    },
    {
      "cell_type": "code",
      "source": [
        "def soma(a,b):\n",
        "  print(a+b)\n",
        "\n",
        "soma(2, 9) \n"
      ],
      "metadata": {
        "colab": {
          "base_uri": "https://localhost:8080/"
        },
        "id": "fJ-Nz7uqGnwT",
        "outputId": "b89dba73-584d-4878-826f-25c738f60169"
      },
      "execution_count": null,
      "outputs": [
        {
          "output_type": "stream",
          "name": "stdout",
          "text": [
            "11\n"
          ]
        }
      ]
    },
    {
      "cell_type": "markdown",
      "source": [
        "Função para retornar Verdadeiro ou Falso dependendo se o numero é par ou impar"
      ],
      "metadata": {
        "id": "zNvKgxDwG0JI"
      }
    },
    {
      "cell_type": "code",
      "source": [
        "def par(x):\n",
        "  return(x % 2 == 0)\n",
        "\n",
        "print(par(2))\n",
        "print(par(3))\n",
        "print(par(10))"
      ],
      "metadata": {
        "colab": {
          "base_uri": "https://localhost:8080/"
        },
        "id": "dKikR5ubG6hD",
        "outputId": "7ff498e1-6e02-4ea4-c9fc-98ce5cb6e008"
      },
      "execution_count": null,
      "outputs": [
        {
          "output_type": "stream",
          "name": "stdout",
          "text": [
            "True\n",
            "False\n",
            "True\n"
          ]
        }
      ]
    },
    {
      "cell_type": "code",
      "source": [
        "def epar(x):\n",
        "    return x % 2 == 0\n",
        "def par_ou_impar(x):\n",
        "    if epar(x):\n",
        "      return 'numero par'\n",
        "    else:\n",
        "      return 'numero impar'\n",
        "\n",
        "print(par_ou_impar(3))\n",
        "print(par_ou_impar(10))"
      ],
      "metadata": {
        "colab": {
          "base_uri": "https://localhost:8080/"
        },
        "id": "t288CHoeHYMz",
        "outputId": "fefd97f5-d0e6-4ac6-ccb8-4eee9c7ede18"
      },
      "execution_count": null,
      "outputs": [
        {
          "output_type": "stream",
          "name": "stdout",
          "text": [
            "numero impar\n",
            "numero par\n"
          ]
        }
      ]
    },
    {
      "cell_type": "markdown",
      "source": [
        "#EXERCÍCIO LIVRO P. 160 "
      ],
      "metadata": {
        "id": "9VD8MDGLIit_"
      }
    },
    {
      "cell_type": "code",
      "source": [
        "# escreva uma função que retorne o maior de dois números\n",
        "\n",
        "def n_maior(x,y):   \n",
        "    \n",
        "    if x > y:\n",
        "      return x\n",
        "    else:\n",
        "      return y\n",
        "\n",
        "print(n_maior(2,4))\n",
        "print(n_maior(5,2))\n",
        "    "
      ],
      "metadata": {
        "colab": {
          "base_uri": "https://localhost:8080/"
        },
        "id": "S4c1DtnlIhvc",
        "outputId": "6a941810-d9bf-4b54-e56f-93d80d6f9573"
      },
      "execution_count": null,
      "outputs": [
        {
          "output_type": "stream",
          "name": "stdout",
          "text": [
            "4\n",
            "5\n"
          ]
        }
      ]
    },
    {
      "cell_type": "code",
      "source": [
        "# escreva uma função que receba dois numeros e retorne TRUE se o primeiro numero for multiplo do segundo\n",
        "\n",
        "def multipl(a,b):\n",
        "    return (b % 2 == 0)\n",
        "\n",
        "print(multipl(8, 4))\n",
        "print(multipl(7, 3))"
      ],
      "metadata": {
        "colab": {
          "base_uri": "https://localhost:8080/"
        },
        "id": "DhL6uJ34JoZk",
        "outputId": "e1179041-d24a-4a6a-b64a-1d60bb4ee8fe"
      },
      "execution_count": null,
      "outputs": [
        {
          "output_type": "stream",
          "name": "stdout",
          "text": [
            "True\n",
            "False\n"
          ]
        }
      ]
    },
    {
      "cell_type": "code",
      "source": [
        "#escreva uma função que receba o lado de um quadrado e retonre sua área \n",
        "\n",
        "def area_quadrado(l):\n",
        "    return  l ** 2\n",
        "    \n",
        "print(area_quadrado(4))\n",
        "print(area_quadrado(9))"
      ],
      "metadata": {
        "colab": {
          "base_uri": "https://localhost:8080/"
        },
        "id": "FMlxKugaLGli",
        "outputId": "630f376b-dba6-4f10-97d8-866e30837b2a"
      },
      "execution_count": null,
      "outputs": [
        {
          "output_type": "stream",
          "name": "stdout",
          "text": [
            "16\n",
            "81\n"
          ]
        }
      ]
    },
    {
      "cell_type": "code",
      "source": [
        "# escreva uma função que receba a base e a altura de um triangulo e retorne sua área A = (BASE X ALTURA)/2\n",
        "\n",
        "def area_triangulo(b,h):\n",
        "    return (b * h)/2\n",
        "\n",
        "\n",
        "print(area_triangulo(6,9))\n",
        "print(area_triangulo(5,8))"
      ],
      "metadata": {
        "colab": {
          "base_uri": "https://localhost:8080/"
        },
        "id": "4Xq4waCUNNiq",
        "outputId": "b864c7fd-98bb-48f7-fe36-5de538c20975"
      },
      "execution_count": null,
      "outputs": [
        {
          "output_type": "stream",
          "name": "stdout",
          "text": [
            "27.0\n",
            "20.0\n"
          ]
        }
      ]
    },
    {
      "cell_type": "code",
      "source": [
        "# pesquisa em uma lista\n",
        "\n",
        "def pesquise(lista, valor):\n",
        "  for x, e in enumerate(lista):\n",
        "    if e == valor:\n",
        "      return x\n",
        "  return None \n",
        "\n",
        "lista = [ 10, 20, 25, 30]\n",
        "\n",
        "print(pesquise(lista, 25))\n",
        "print(pesquise(lista,27))\n"
      ],
      "metadata": {
        "colab": {
          "base_uri": "https://localhost:8080/"
        },
        "id": "uw7K4By8luFa",
        "outputId": "a7027771-d5e5-4b17-86ee-d22bffd0c92a"
      },
      "execution_count": null,
      "outputs": [
        {
          "output_type": "stream",
          "name": "stdout",
          "text": [
            "2\n",
            "None\n"
          ]
        }
      ]
    },
    {
      "cell_type": "code",
      "source": [
        "def soma(l):\n",
        "  total = 0 \n",
        "  for e in l:\n",
        "    total += e\n",
        "  return total\n",
        "def media(l):\n",
        "  return soma(l) / len(l)"
      ],
      "metadata": {
        "id": "3TS9xswKnHma"
      },
      "execution_count": null,
      "outputs": []
    },
    {
      "cell_type": "code",
      "source": [
        "l = [1,7,2,9,15]\n",
        "\n",
        "def soma(l):\n",
        "  total = 0\n",
        "  x = 0\n",
        "  while x < 5:\n",
        "    total += l[x]\n",
        "    x += 1\n",
        "  return total \n",
        "\n",
        "print(soma(l))\n",
        "print(soma[7,9,12,3,100,20,4])"
      ],
      "metadata": {
        "colab": {
          "base_uri": "https://localhost:8080/",
          "height": 217
        },
        "id": "na5BG4bN4Iky",
        "outputId": "0e0837d4-cae3-4670-cc96-afa1d5d5612d"
      },
      "execution_count": null,
      "outputs": [
        {
          "output_type": "stream",
          "name": "stdout",
          "text": [
            "34\n"
          ]
        },
        {
          "output_type": "error",
          "ename": "TypeError",
          "evalue": "ignored",
          "traceback": [
            "\u001b[0;31m---------------------------------------------------------------------------\u001b[0m",
            "\u001b[0;31mTypeError\u001b[0m                                 Traceback (most recent call last)",
            "\u001b[0;32m<ipython-input-59-e2a1348201de>\u001b[0m in \u001b[0;36m<module>\u001b[0;34m()\u001b[0m\n\u001b[1;32m     10\u001b[0m \u001b[0;34m\u001b[0m\u001b[0m\n\u001b[1;32m     11\u001b[0m \u001b[0mprint\u001b[0m\u001b[0;34m(\u001b[0m\u001b[0msoma\u001b[0m\u001b[0;34m(\u001b[0m\u001b[0ml\u001b[0m\u001b[0;34m)\u001b[0m\u001b[0;34m)\u001b[0m\u001b[0;34m\u001b[0m\u001b[0;34m\u001b[0m\u001b[0m\n\u001b[0;32m---> 12\u001b[0;31m \u001b[0mprint\u001b[0m\u001b[0;34m(\u001b[0m\u001b[0msoma\u001b[0m\u001b[0;34m[\u001b[0m\u001b[0;36m7\u001b[0m\u001b[0;34m,\u001b[0m\u001b[0;36m9\u001b[0m\u001b[0;34m,\u001b[0m\u001b[0;36m12\u001b[0m\u001b[0;34m,\u001b[0m\u001b[0;36m3\u001b[0m\u001b[0;34m,\u001b[0m\u001b[0;36m100\u001b[0m\u001b[0;34m,\u001b[0m\u001b[0;36m20\u001b[0m\u001b[0;34m,\u001b[0m\u001b[0;36m4\u001b[0m\u001b[0;34m]\u001b[0m\u001b[0;34m)\u001b[0m\u001b[0;34m\u001b[0m\u001b[0;34m\u001b[0m\u001b[0m\n\u001b[0m",
            "\u001b[0;31mTypeError\u001b[0m: 'function' object is not subscriptable"
          ]
        }
      ]
    },
    {
      "cell_type": "code",
      "source": [
        "#calculo fatorial 3: 3x2x1=6\n",
        "def fatorial(n):\n",
        "  fat = 1 \n",
        "  while n>1:\n",
        "    fat *= n\n",
        "    n -= 1\n",
        "  return fat"
      ],
      "metadata": {
        "id": "283gE0v_7D5p"
      },
      "execution_count": null,
      "outputs": []
    },
    {
      "cell_type": "code",
      "source": [
        "#VARIÁVEL LOCAL\n",
        "empresa = 'UNIDOS VENCEREMOS LTDA'\n",
        "\n",
        "def imprime_cabecalho():\n",
        "  print(empresa)\n",
        "  print('-' * len(empresa))"
      ],
      "metadata": {
        "id": "Cq0CBgDI8luw"
      },
      "execution_count": null,
      "outputs": []
    },
    {
      "cell_type": "code",
      "source": [
        "a = 5 \n",
        "\n",
        "def muda_imprime():\n",
        "  a = 7 \n",
        "  print(f'A dentro da função: {a}')\n",
        "print(f'a antes de mudar: {a}')\n",
        "muda_imprime()\n",
        "print(f'a depois de mudar: {a}')"
      ],
      "metadata": {
        "id": "nen6XDWu9Idq"
      },
      "execution_count": null,
      "outputs": []
    },
    {
      "cell_type": "markdown",
      "source": [
        "MODIFICAR VARIAVEL GLOBAL DENTRO DA FUNÇÃO: devemos informar que estamos usando uma variavael global"
      ],
      "metadata": {
        "id": "MwyBJsovBGNp"
      }
    },
    {
      "cell_type": "code",
      "source": [
        "a = 5 \n",
        "\n",
        "def muda_imprime():\n",
        "  global a #falar qual é variavel global acarreta em mudar a variavel mesmo quando acaba a função\n",
        "  a = 7 \n",
        "  print(f'A dentro da função: {a}')\n",
        "print(f'a antes de mudar: {a}')\n",
        "muda_imprime()\n",
        "print(f'a depois de mudar: {a}')"
      ],
      "metadata": {
        "id": "iVrd9uGcBOLC"
      },
      "execution_count": null,
      "outputs": []
    },
    {
      "cell_type": "markdown",
      "source": [
        "#funções recursivas: funções que podem chamar a si mesmas"
      ],
      "metadata": {
        "id": "lOa51DsbB-ir"
      }
    },
    {
      "cell_type": "code",
      "source": [
        "#função rescursiva do fatorial\n",
        "\n",
        "def fatorial(n):\n",
        "  if n == 0 or n == 1:\n",
        "    return 1\n",
        "  else:\n",
        "    return n*fatorial(n-1)\n",
        "\n",
        "print(fatorial(4))\n",
        "print(fatorial(0))"
      ],
      "metadata": {
        "colab": {
          "base_uri": "https://localhost:8080/"
        },
        "id": "2motJZDAB9JK",
        "outputId": "a32f6f84-ab27-4156-b8ad-97836d10e84c"
      },
      "execution_count": null,
      "outputs": [
        {
          "output_type": "stream",
          "name": "stdout",
          "text": [
            "24\n",
            "1\n"
          ]
        }
      ]
    },
    {
      "cell_type": "code",
      "source": [
        "# função modificada para facilitar o rastramento \n",
        "\n",
        "def fatorial(n):\n",
        "  print(f'calculando o fatorual de {n}')\n",
        "  if n == 0 or n == 1:\n",
        "    print(f'fatorial de {n} = 1')\n",
        "    return 1\n",
        "  else: \n",
        "    fat = n*fatorial(n-1)\n",
        "    print(f'fatorial de {n} é {fat}')\n",
        "  return fat\n",
        "fatorial(4)"
      ],
      "metadata": {
        "colab": {
          "base_uri": "https://localhost:8080/"
        },
        "id": "EskpnOASCw_l",
        "outputId": "65042a9a-c164-431c-9d4e-9396210cdce6"
      },
      "execution_count": null,
      "outputs": [
        {
          "output_type": "stream",
          "name": "stdout",
          "text": [
            "calculando o fatorual de 4\n",
            "calculando o fatorual de 3\n",
            "calculando o fatorual de 2\n",
            "calculando o fatorual de 1\n",
            "fatorial de 1 = 1\n",
            "fatorial de 2 é 2\n",
            "fatorial de 3 é 6\n",
            "fatorial de 4 é 24\n"
          ]
        },
        {
          "output_type": "execute_result",
          "data": {
            "text/plain": [
              "24"
            ]
          },
          "metadata": {},
          "execution_count": 61
        }
      ]
    },
    {
      "cell_type": "code",
      "source": [
        "#enesimo termo da sequencia de fibonacci\n",
        "\n",
        "def fibonacci(n):\n",
        "  if n <= 1:\n",
        "    return n\n",
        "  else:\n",
        "    return fibonacci(n-1) + fibonacci(n-2)\n",
        "\n",
        "print(fibonacci(5))"
      ],
      "metadata": {
        "colab": {
          "base_uri": "https://localhost:8080/"
        },
        "id": "uzSe_V_26IaI",
        "outputId": "7c5bbe61-b5b2-4c2d-e810-ce8a8de2cee7"
      },
      "execution_count": null,
      "outputs": [
        {
          "output_type": "stream",
          "name": "stdout",
          "text": [
            "5\n"
          ]
        }
      ]
    },
    {
      "cell_type": "code",
      "source": [
        "#defina uma função recursiva que calcule o maior divisor coum entre dois numeros a e b a>b. \n",
        "\n",
        "def mdc(n, m):\n",
        " dividendo, divisor, resto = n, m, n % m\n",
        " while resto != 0:\n",
        "  dividendo, divisor, resto = divisor, resto, divisor % resto\n",
        " return divisor\n",
        "\n",
        "print(mdc(9,12))"
      ],
      "metadata": {
        "colab": {
          "base_uri": "https://localhost:8080/"
        },
        "id": "2LU3BArd_8qr",
        "outputId": "ada60b3f-38ac-4c67-ff66-71a1475e9ff2"
      },
      "execution_count": null,
      "outputs": [
        {
          "output_type": "stream",
          "name": "stdout",
          "text": [
            "3\n"
          ]
        }
      ]
    },
    {
      "cell_type": "markdown",
      "source": [
        "Função validação: servem para validar a entrada de dados\n",
        "o código para lr um valor inteiro, limitado, por um avalor mínimo e máximo, esse trecho repete a entrada de dados até termos um valor válido"
      ],
      "metadata": {
        "id": "e8ZWiJjTGTWI"
      }
    },
    {
      "cell_type": "code",
      "source": [
        "#validação em usar função\n",
        "\n",
        "while True:\n",
        "  v=int(input('digite um valor entre 0 e 5: '))\n",
        "  if v < 0 or v > 5:\n",
        "    print('valor inválido')\n",
        "  else:\n",
        "    break"
      ],
      "metadata": {
        "colab": {
          "base_uri": "https://localhost:8080/"
        },
        "id": "Qyn2vPfRGsIX",
        "outputId": "a3af7c12-33ad-4bd3-cc18-aae37418508e"
      },
      "execution_count": null,
      "outputs": [
        {
          "name": "stdout",
          "output_type": "stream",
          "text": [
            "digite um valor entre 0 e 5: 3\n"
          ]
        }
      ]
    },
    {
      "cell_type": "code",
      "source": [
        "#validação de inteiro usadno função\n",
        "\n",
        "def faixa_inteiro(pergunta, minimo, maximo):\n",
        "  while True:\n",
        "    v=int(input(pergunta))\n",
        "    if v < minimo or v > maximo:\n",
        "      print(f'valor invalido, digite um numero entre {minimo} e {maximo}')\n",
        "    else:\n",
        "      return v"
      ],
      "metadata": {
        "id": "BzrXKUzqHDqZ"
      },
      "execution_count": null,
      "outputs": []
    },
    {
      "cell_type": "code",
      "source": [
        "def soma(a,b):\n",
        "  return a + b\n",
        "\n",
        "print(soma(2,2))"
      ],
      "metadata": {
        "colab": {
          "base_uri": "https://localhost:8080/"
        },
        "id": "vzFTZTPdIHOw",
        "outputId": "2893f85c-4bc1-4e88-b463-eb4322d1f351"
      },
      "execution_count": null,
      "outputs": [
        {
          "output_type": "stream",
          "name": "stdout",
          "text": [
            "4\n"
          ]
        }
      ]
    },
    {
      "cell_type": "markdown",
      "source": [
        "#funções lambdas: funções simples, sem nome\n",
        "\n",
        "\n",
        "```\n",
        "#programa lambda que recebe um valor e retorna o dobro dele\n",
        "\n",
        "a = lambda x: x*2\n",
        "print(a(3))\n",
        "\n",
        "\n",
        "```\n",
        "\n"
      ],
      "metadata": {
        "id": "ARCIQTciV6mQ"
      }
    },
    {
      "cell_type": "code",
      "source": [
        "#programa lambda que recebe um valor e retorna o dobro dele\n",
        "\n",
        "a = lambda x: x*2\n",
        "print(a(3))"
      ],
      "metadata": {
        "id": "_SdgqBwzWprN",
        "outputId": "888bfe28-acdb-4025-98c7-c98f2c81d4a9",
        "colab": {
          "base_uri": "https://localhost:8080/"
        }
      },
      "execution_count": null,
      "outputs": [
        {
          "output_type": "stream",
          "name": "stdout",
          "text": [
            "6\n"
          ]
        }
      ]
    }
  ]
}