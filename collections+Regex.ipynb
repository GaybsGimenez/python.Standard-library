{
  "nbformat": 4,
  "nbformat_minor": 0,
  "metadata": {
    "colab": {
      "name": "collections+Regex.ipynb",
      "provenance": [],
      "authorship_tag": "ABX9TyOlAlqsqdXjGldsI+zYP0xm",
      "include_colab_link": true
    },
    "kernelspec": {
      "name": "python3",
      "display_name": "Python 3"
    },
    "language_info": {
      "name": "python"
    }
  },
  "cells": [
    {
      "cell_type": "markdown",
      "metadata": {
        "id": "view-in-github",
        "colab_type": "text"
      },
      "source": [
        "<a href=\"https://colab.research.google.com/github/GaybsGimenez/python.satandard-library/blob/main/collections%2BRegex.ipynb\" target=\"_parent\"><img src=\"https://colab.research.google.com/assets/colab-badge.svg\" alt=\"Open In Colab\"/></a>"
      ]
    },
    {
      "cell_type": "markdown",
      "source": [
        "#Collections: dicionário default(defaltdict)"
      ],
      "metadata": {
        "id": "h8cGYlDnyNPz"
      }
    },
    {
      "cell_type": "code",
      "source": [
        "from collections import defaultdict"
      ],
      "metadata": {
        "id": "GIQQ_R90nhIa"
      },
      "execution_count": 4,
      "outputs": []
    },
    {
      "cell_type": "code",
      "source": [
        "compras = {'maça':20, 'melancia':2, 'banana': 12}\n",
        "compras['maçã']"
      ],
      "metadata": {
        "colab": {
          "base_uri": "https://localhost:8080/"
        },
        "id": "txaxXz2lnlfz",
        "outputId": "06e2ea0d-1f3a-4939-c5ca-51e8d528183f"
      },
      "execution_count": 2,
      "outputs": [
        {
          "output_type": "execute_result",
          "data": {
            "text/plain": [
              "20"
            ]
          },
          "metadata": {},
          "execution_count": 2
        }
      ]
    },
    {
      "cell_type": "code",
      "source": [
        "compras['abacate'] #erro por mencionar uma chave inexistente"
      ],
      "metadata": {
        "id": "qWWXQcweoH-U"
      },
      "execution_count": null,
      "outputs": []
    },
    {
      "cell_type": "code",
      "source": [
        "from collections import defaultdict\n",
        "compras = defaultdict(int)\n",
        "compras['abacate']\n"
      ],
      "metadata": {
        "colab": {
          "base_uri": "https://localhost:8080/"
        },
        "id": "2j4Krwl9oQOR",
        "outputId": "73f05f03-ed1d-4fc1-fbce-0544c87c583e"
      },
      "execution_count": 10,
      "outputs": [
        {
          "output_type": "execute_result",
          "data": {
            "text/plain": [
              "0"
            ]
          },
          "metadata": {},
          "execution_count": 10
        }
      ]
    },
    {
      "cell_type": "markdown",
      "source": [
        "Dicionário que mapeie palavras em classes gramaticais"
      ],
      "metadata": {
        "id": "QBKzJs-eppr6"
      }
    },
    {
      "cell_type": "code",
      "source": [
        "classes = defaultdict(int)\n",
        "classes['havia'] = 'verbo'\n",
        "classes['uma'] = 'artigo'\n",
        "classes['pedra'] = 'substantivo'\n",
        "\n",
        "classes['havia']\n",
        "classes['caminho']"
      ],
      "metadata": {
        "colab": {
          "base_uri": "https://localhost:8080/"
        },
        "id": "mtFxjvjPpyqM",
        "outputId": "09bbbaa5-b034-4050-e7fa-9620863a909c"
      },
      "execution_count": 14,
      "outputs": [
        {
          "output_type": "execute_result",
          "data": {
            "text/plain": [
              "0"
            ]
          },
          "metadata": {},
          "execution_count": 14
        }
      ]
    },
    {
      "cell_type": "code",
      "source": [
        "classes = defaultdict(lambda:'Não definido')\n",
        "classes['caminho']"
      ],
      "metadata": {
        "colab": {
          "base_uri": "https://localhost:8080/",
          "height": 35
        },
        "id": "y0zQSAggqfME",
        "outputId": "0e020911-6e67-41c6-c9f9-d55c4029649e"
      },
      "execution_count": 15,
      "outputs": [
        {
          "output_type": "execute_result",
          "data": {
            "application/vnd.google.colaboratory.intrinsic+json": {
              "type": "string"
            },
            "text/plain": [
              "'Não definido'"
            ]
          },
          "metadata": {},
          "execution_count": 15
        }
      ]
    },
    {
      "cell_type": "markdown",
      "source": [
        "# REGEX: Expressões regulares (RE)\n",
        "usadas em detecção de padrões em strings\n",
        "\n",
        "* vantagem: as RE permitem testar não somente caracteres fixos, como as strings convencionais, mas também CLASSES DE EXPRESSÕES que admitem partes ficas e outras variáveis"
      ],
      "metadata": {
        "id": "Ojz_eEncrF9c"
      }
    },
    {
      "cell_type": "code",
      "source": [
        "import re "
      ],
      "metadata": {
        "id": "AEVbn48MrMZx"
      },
      "execution_count": 16,
      "outputs": []
    },
    {
      "cell_type": "code",
      "source": [
        "s = 'Gatos comem ratos e cachorros comem gatos' #findall busca todas as ocorrencias de uma RE dentro de uma string\n",
        "re.findall('gatos', s) #busca sensivel á distinção entre maiuscula e minuscula"
      ],
      "metadata": {
        "colab": {
          "base_uri": "https://localhost:8080/"
        },
        "id": "qpNnjrOkrwN6",
        "outputId": "5a547067-fde8-431e-cf6a-17825b0be331"
      },
      "execution_count": 17,
      "outputs": [
        {
          "output_type": "execute_result",
          "data": {
            "text/plain": [
              "['gatos']"
            ]
          },
          "metadata": {},
          "execution_count": 17
        }
      ]
    },
    {
      "cell_type": "code",
      "source": [
        "animais = 'ratos|gatos|cachorros' #disjunção de sequencias, usa-se | \n",
        "re.findall(animais,s)"
      ],
      "metadata": {
        "colab": {
          "base_uri": "https://localhost:8080/"
        },
        "id": "jdwKAEmJsTgr",
        "outputId": "f4254d92-bd5d-4522-c0da-9bf075a2b944"
      },
      "execution_count": 19,
      "outputs": [
        {
          "output_type": "execute_result",
          "data": {
            "text/plain": [
              "['ratos', 'cachorros', 'gatos']"
            ]
          },
          "metadata": {},
          "execution_count": 19
        }
      ]
    },
    {
      "cell_type": "code",
      "source": [
        "re.findall('.atos', s)\n"
      ],
      "metadata": {
        "colab": {
          "base_uri": "https://localhost:8080/"
        },
        "id": "6mtHQ7oQstGv",
        "outputId": "38fa1ed2-5df2-46a7-c3e6-c835ecc4ec0b"
      },
      "execution_count": 20,
      "outputs": [
        {
          "output_type": "execute_result",
          "data": {
            "text/plain": [
              "['Gatos', 'ratos', 'gatos']"
            ]
          },
          "metadata": {},
          "execution_count": 20
        }
      ]
    },
    {
      "cell_type": "markdown",
      "source": [
        "## IMPORTANTE: \n",
        "São importantes também alguns metacaracteres usados para indicar opcionalidade e repetição. \n",
        "\n",
        "* ? : indica opicionalidade do caractere precedente. \n",
        "* +: indica uma ou mais ocorrencias do caractere precedente. \n",
        "\n",
        "DESSA FORMA TEMOS: \n",
        "\n",
        "RE carros? - abrange tanto **carro**, quanto **carros**. \n",
        "RE car+o - abrange tanto **caro**, quanto **carro** (*além de carrrro, ou carrrrrro*) "
      ],
      "metadata": {
        "id": "_hS_nCLMtBDM"
      }
    },
    {
      "cell_type": "code",
      "source": [
        "re.findall('e', s) #buscar ocorrencia da conjunção 'e' dentro da string \n",
        "#resultado foi uma lista com 3 ocorrencias, sem nenhuma sensibilidade em relação ao contexto imediato em que ocorre"
      ],
      "metadata": {
        "colab": {
          "base_uri": "https://localhost:8080/"
        },
        "id": "qrUSknr5uC8Q",
        "outputId": "941ec069-b2f5-42a5-e75d-16cd0bf43271"
      },
      "execution_count": 21,
      "outputs": [
        {
          "output_type": "execute_result",
          "data": {
            "text/plain": [
              "['e', 'e', 'e']"
            ]
          },
          "metadata": {},
          "execution_count": 21
        }
      ]
    },
    {
      "cell_type": "markdown",
      "source": [
        "Para indicar fronteiras, usa-se \\b "
      ],
      "metadata": {
        "id": "QejnoynlumZS"
      }
    },
    {
      "cell_type": "code",
      "source": [
        "re.findall('\\\\be\\\\b', s)"
      ],
      "metadata": {
        "colab": {
          "base_uri": "https://localhost:8080/"
        },
        "id": "2n6_ER8GuzWT",
        "outputId": "9c90eeba-f601-4b9e-9b13-4102f0943e86"
      },
      "execution_count": 22,
      "outputs": [
        {
          "output_type": "execute_result",
          "data": {
            "text/plain": [
              "['e']"
            ]
          },
          "metadata": {},
          "execution_count": 22
        }
      ]
    },
    {
      "cell_type": "markdown",
      "source": [
        "As RE são uteis para busca de expressões que possuem formato padrão e que, mesmo assim, variam dentro de certos limites. \n",
        "\n",
        "## Exemplo: forma como as datas são escritas \n",
        "\n",
        "* dois algarismos \n",
        "* palavra invariável - geralmente \"de\" \n",
        "* palavra variável - correspondente ao nome do mês\n",
        "* ano, 4 algarismos"
      ],
      "metadata": {
        "id": "D3bW4No4vHHA"
      }
    },
    {
      "cell_type": "code",
      "source": [
        "texto = 'Hoje, 2 de junho de 2019, acontece um eclipse solar. Em 26 de dezembro de 2019, haverá outro'\n",
        "\n",
        "data = r'\\d+ de \\w+ de \\d{4}'\n",
        "re.findall(data, texto)"
      ],
      "metadata": {
        "colab": {
          "base_uri": "https://localhost:8080/"
        },
        "id": "eAmRPZqYuORe",
        "outputId": "de7280a4-7e80-4ddf-d41c-272a509681f0"
      },
      "execution_count": 23,
      "outputs": [
        {
          "output_type": "execute_result",
          "data": {
            "text/plain": [
              "['2 de junho de 2019', '26 de dezembro de 2019']"
            ]
          },
          "metadata": {},
          "execution_count": 23
        }
      ]
    },
    {
      "cell_type": "markdown",
      "source": [
        "###construção da RE data: \n",
        "\n",
        "* \\d : representa algorismo \n",
        "* \\w : caracterete alfa numérico \n",
        "* +: significa um ou mais caracteres desse tipo \n",
        "* {4}: indica que a expressão usada deve conter exatamente 4 algarismos"
      ],
      "metadata": {
        "id": "0gLJa8McwwiC"
      }
    },
    {
      "cell_type": "markdown",
      "source": [
        "###Regex: detecção de padrões envolvendo REPETIÇÕES DE SEQUENCIAS\n",
        "\n",
        "EXEMPLO: palavras que ocorram do tipo X OU NÃO X\n",
        "Esse tipo de padrão pode ser particularmente util em operações de edição e substituição de strings"
      ],
      "metadata": {
        "id": "FV9Y3I1gy2Hj"
      }
    },
    {
      "cell_type": "code",
      "source": [
        "texto = r'Eis aqui dois dilemas: ser ou não ser e ter ou não ter.'\n",
        "p = r'\\b(.+) ou não \\1\\b' #(.+) corresponde a uma sequencia qualquer de um ou mais caracteres entre ela e sua segunda ocorrencia, fica a string \"ou não\"\n",
        "re.findall(p, texto)"
      ],
      "metadata": {
        "colab": {
          "base_uri": "https://localhost:8080/"
        },
        "id": "dL8s21WJ3k1H",
        "outputId": "6c7ca16a-6e1d-40e6-cd95-0c34bb98c1cf"
      },
      "execution_count": 25,
      "outputs": [
        {
          "output_type": "execute_result",
          "data": {
            "text/plain": [
              "['ser', 'ter']"
            ]
          },
          "metadata": {},
          "execution_count": 25
        }
      ]
    },
    {
      "cell_type": "markdown",
      "source": [
        "### Método sub() :  Permite inspecionar uma string mais longa buscando REs específicas e substituindo-as po uma outra string\n",
        "\n",
        "## EXEMPLO: \n",
        "detectar e eliminar sequências de palavras repetidas emum texto. "
      ],
      "metadata": {
        "id": "moApbC2cEzjc"
      }
    },
    {
      "cell_type": "code",
      "source": [
        "texto = r'Pedro disse que que leu um um livro interessante.'\n",
        "p = r'\\b(.+) \\1\\b'\n",
        "re.sub(p, r'\\1', texto)"
      ],
      "metadata": {
        "colab": {
          "base_uri": "https://localhost:8080/",
          "height": 35
        },
        "id": "fZb4fex5FZbL",
        "outputId": "dd085cba-abdf-40c9-9895-62251ed87c00"
      },
      "execution_count": 26,
      "outputs": [
        {
          "output_type": "execute_result",
          "data": {
            "application/vnd.google.colaboratory.intrinsic+json": {
              "type": "string"
            },
            "text/plain": [
              "'Pedro disse que leu um livro interessante.'"
            ]
          },
          "metadata": {},
          "execution_count": 26
        }
      ]
    }
  ]
}